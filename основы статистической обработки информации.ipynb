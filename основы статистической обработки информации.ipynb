{
 "cells": [
  {
   "cell_type": "markdown",
   "id": "cb64700b-6ae8-4079-bbdb-722c34ef4ee8",
   "metadata": {},
   "source": [
    "# Конспкт по книге \"Основы статистической обработки информации\""
   ]
  },
  {
   "cell_type": "code",
   "execution_count": null,
   "id": "8ae31c8a-b9a2-494f-9222-3b62333d15b7",
   "metadata": {},
   "outputs": [],
   "source": []
  }
 ],
 "metadata": {
  "kernelspec": {
   "display_name": "Python 3 (ipykernel)",
   "language": "python",
   "name": "python3"
  },
  "language_info": {
   "codemirror_mode": {
    "name": "ipython",
    "version": 3
   },
   "file_extension": ".py",
   "mimetype": "text/x-python",
   "name": "python",
   "nbconvert_exporter": "python",
   "pygments_lexer": "ipython3",
   "version": "3.11.6"
  }
 },
 "nbformat": 4,
 "nbformat_minor": 5
}
